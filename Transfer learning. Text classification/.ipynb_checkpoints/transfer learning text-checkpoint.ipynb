{
 "cells": [
  {
   "cell_type": "code",
   "execution_count": 7,
   "id": "da0d0d33-25e7-4ac1-af66-946dd2856e80",
   "metadata": {},
   "outputs": [
    {
     "name": "stdout",
     "output_type": "stream",
     "text": [
      "Collecting einops\n",
      "  Downloading einops-0.8.0-py3-none-any.whl.metadata (12 kB)\n",
      "Downloading einops-0.8.0-py3-none-any.whl (43 kB)\n",
      "Installing collected packages: einops\n",
      "Successfully installed einops-0.8.0\n",
      "\n",
      "\u001b[1m[\u001b[0m\u001b[34;49mnotice\u001b[0m\u001b[1;39;49m]\u001b[0m\u001b[39;49m A new release of pip is available: \u001b[0m\u001b[31;49m24.2\u001b[0m\u001b[39;49m -> \u001b[0m\u001b[32;49m24.3.1\u001b[0m\n",
      "\u001b[1m[\u001b[0m\u001b[34;49mnotice\u001b[0m\u001b[1;39;49m]\u001b[0m\u001b[39;49m To update, run: \u001b[0m\u001b[32;49mpip install --upgrade pip\u001b[0m\n"
     ]
    }
   ],
   "source": [
    "!pip install einops"
   ]
  },
  {
   "cell_type": "markdown",
   "id": "64acc7fb-59de-4ebc-b82f-afb53cc852d2",
   "metadata": {},
   "source": [
    "# Imports"
   ]
  },
  {
   "cell_type": "code",
   "execution_count": null,
   "id": "3379e5ef-2708-48c0-a8ed-95eda57a8aea",
   "metadata": {},
   "outputs": [],
   "source": [
    "import numpy as np\n",
    "import pandas as pd\n",
    "import transformers\n",
    "import tensorflow as tf\n",
    "import tqdm.notebook as tqdm\n",
    "import sklearn.model_selection\n",
    "import matplotlib.pyplot as plt"
   ]
  },
  {
   "cell_type": "code",
   "execution_count": 1,
   "id": "1bb59726-88a5-4a3a-912f-0e10d90e3b45",
   "metadata": {},
   "outputs": [
    {
     "name": "stderr",
     "output_type": "stream",
     "text": [
      "/home/bob1ch/Рабочий стол/NN-NLP/venv/lib/python3.12/site-packages/tqdm/auto.py:21: TqdmWarning: IProgress not found. Please update jupyter and ipywidgets. See https://ipywidgets.readthedocs.io/en/stable/user_install.html\n",
      "  from .autonotebook import tqdm as notebook_tqdm\n"
     ]
    }
   ],
   "source": [
    "import os\n",
    "import math\n",
    "import numpy as np\n",
    "import pandas as pd\n",
    "import transformers\n",
    "from datasets import load_dataset\n",
    "#import tensorflow as tf\n",
    "import tqdm.notebook as tqdm\n",
    "import sklearn.model_selection\n",
    "import matplotlib.pyplot as plt\n",
    "\n",
    "import pickle\n",
    "from sklearn.model_selection import train_test_split\n",
    "from sklearn.metrics import ConfusionMatrixDisplay\n",
    "from sklearn.decomposition import PCA\n",
    "\n",
    "import torch\n",
    "import torchvision\n",
    "from torchinfo import summary"
   ]
  },
  {
   "cell_type": "code",
   "execution_count": 2,
   "id": "51c38260-f0a5-49ad-b0fd-d36d5a25e457",
   "metadata": {},
   "outputs": [],
   "source": [
    "device='cuda'"
   ]
  },
  {
   "cell_type": "markdown",
   "id": "3588f5af-a33c-4638-90d8-5cb912535790",
   "metadata": {},
   "source": [
    "# Data"
   ]
  },
  {
   "cell_type": "markdown",
   "id": "c468a19b-1395-4afc-b0c5-a799160ea671",
   "metadata": {},
   "source": [
    "Load and prepare your dataset. Dataset should have at least 10k samples in it. Each dataset cannot be used by more than two students."
   ]
  },
  {
   "cell_type": "code",
   "execution_count": 3,
   "id": "27724773-5172-4a0f-87ab-6878341a7ab9",
   "metadata": {},
   "outputs": [],
   "source": [
    "dataset = load_dataset('dair-ai/emotion')"
   ]
  },
  {
   "cell_type": "code",
   "execution_count": 4,
   "id": "bbff9ac6-71ce-4185-a5c1-5d7c6b96b310",
   "metadata": {},
   "outputs": [
    {
     "data": {
      "text/plain": [
       "DatasetDict({\n",
       "    train: Dataset({\n",
       "        features: ['text', 'label'],\n",
       "        num_rows: 16000\n",
       "    })\n",
       "    validation: Dataset({\n",
       "        features: ['text', 'label'],\n",
       "        num_rows: 2000\n",
       "    })\n",
       "    test: Dataset({\n",
       "        features: ['text', 'label'],\n",
       "        num_rows: 2000\n",
       "    })\n",
       "})"
      ]
     },
     "execution_count": 4,
     "metadata": {},
     "output_type": "execute_result"
    }
   ],
   "source": [
    "dataset"
   ]
  },
  {
   "cell_type": "code",
   "execution_count": 780,
   "id": "81f0437a-5d1e-49bc-8b2b-f5ed239b6f44",
   "metadata": {},
   "outputs": [
    {
     "data": {
      "text/plain": [
       "'i am ever feeling nostalgic about the fireplace i will know that it is still on the property'"
      ]
     },
     "execution_count": 780,
     "metadata": {},
     "output_type": "execute_result"
    }
   ],
   "source": [
    "dataset['train']['text'][3]"
   ]
  },
  {
   "cell_type": "code",
   "execution_count": 764,
   "id": "625b3829-914a-4469-a2eb-159a135a195f",
   "metadata": {},
   "outputs": [],
   "source": [
    "class2idx = {'sadness': 0, 'joy': 1, 'love': 2, 'anger': 3, 'fear': 4, 'surprise': 5}\n",
    "idx2class = {v:k for k,v in class2idx.items()}"
   ]
  },
  {
   "cell_type": "markdown",
   "id": "714bddcc-c56d-4e61-9147-054f5d7f8e7e",
   "metadata": {},
   "source": [
    "# Backbone"
   ]
  },
  {
   "cell_type": "markdown",
   "id": "c21a2f49-08a6-479a-8db7-a52d4db40d56",
   "metadata": {},
   "source": [
    "Load pretrained model from Hugging Face (or some other model repository if it's more convenient). Model should be trained on Feature Extraction task."
   ]
  },
  {
   "cell_type": "code",
   "execution_count": 5,
   "id": "b4091f1c-b39f-4411-80ee-e2f0205ef2f4",
   "metadata": {},
   "outputs": [],
   "source": [
    "#'michellejieli/emotion_text_classifier'"
   ]
  },
  {
   "cell_type": "code",
   "execution_count": 29,
   "id": "d111bc81-dfb4-47fb-b3d8-42388b84a8cc",
   "metadata": {},
   "outputs": [
    {
     "name": "stdin",
     "output_type": "stream",
     "text": [
      "The repository for jinaai/jina-embeddings-v3 contains custom code which must be executed to correctly load the model. You can inspect the repository content at https://hf.co/jinaai/jina-embeddings-v3.\n",
      "You can avoid this prompt in future by passing the argument `trust_remote_code=True`.\n",
      "\n",
      "Do you wish to run the custom code? [y/N]  y\n"
     ]
    },
    {
     "name": "stderr",
     "output_type": "stream",
     "text": [
      "flash_attn is not installed. Using PyTorch native attention implementation.\n",
      "flash_attn is not installed. Using PyTorch native attention implementation.\n",
      "flash_attn is not installed. Using PyTorch native attention implementation.\n",
      "flash_attn is not installed. Using PyTorch native attention implementation.\n",
      "flash_attn is not installed. Using PyTorch native attention implementation.\n",
      "flash_attn is not installed. Using PyTorch native attention implementation.\n",
      "flash_attn is not installed. Using PyTorch native attention implementation.\n",
      "flash_attn is not installed. Using PyTorch native attention implementation.\n",
      "flash_attn is not installed. Using PyTorch native attention implementation.\n",
      "flash_attn is not installed. Using PyTorch native attention implementation.\n",
      "flash_attn is not installed. Using PyTorch native attention implementation.\n",
      "flash_attn is not installed. Using PyTorch native attention implementation.\n",
      "flash_attn is not installed. Using PyTorch native attention implementation.\n",
      "flash_attn is not installed. Using PyTorch native attention implementation.\n",
      "flash_attn is not installed. Using PyTorch native attention implementation.\n",
      "flash_attn is not installed. Using PyTorch native attention implementation.\n",
      "flash_attn is not installed. Using PyTorch native attention implementation.\n",
      "flash_attn is not installed. Using PyTorch native attention implementation.\n",
      "flash_attn is not installed. Using PyTorch native attention implementation.\n",
      "flash_attn is not installed. Using PyTorch native attention implementation.\n",
      "flash_attn is not installed. Using PyTorch native attention implementation.\n",
      "flash_attn is not installed. Using PyTorch native attention implementation.\n",
      "flash_attn is not installed. Using PyTorch native attention implementation.\n",
      "flash_attn is not installed. Using PyTorch native attention implementation.\n",
      "flash_attn is not installed. Using PyTorch native attention implementation.\n"
     ]
    }
   ],
   "source": [
    "backbone = transformers.AutoModel.from_pretrained('jinaai/jina-embeddings-v3').to(device)"
   ]
  },
  {
   "cell_type": "markdown",
   "id": "4b81337a-c06e-4b33-9dff-61ff0c6858c9",
   "metadata": {},
   "source": [
    "Load tokenizer to be used with the model"
   ]
  },
  {
   "cell_type": "code",
   "execution_count": 33,
   "id": "4c7e98fb-a356-463d-a856-9b011efdcca1",
   "metadata": {},
   "outputs": [],
   "source": [
    "tokenizer = transformers.AutoTokenizer.from_pretrained('jinaai/jina-embeddings-v3')"
   ]
  },
  {
   "cell_type": "markdown",
   "id": "c045f3c1-faf9-41fc-af88-a4f49c97ac13",
   "metadata": {},
   "source": [
    "# Feature extraction"
   ]
  },
  {
   "cell_type": "markdown",
   "id": "1025d0d6-3b43-440a-8791-27b3e208e415",
   "metadata": {},
   "source": [
    "Since we will not be training the backbone, extract features from your dataset."
   ]
  },
  {
   "cell_type": "markdown",
   "id": "75fb0bf5-6e28-49fa-a0c3-e5b3fd51e7f7",
   "metadata": {},
   "source": [
    "Tokenize all your sequences. Truncate/pad the squences for convenience. If the sequences are too large to be stored in memory, lazily save them on disk."
   ]
  },
  {
   "cell_type": "code",
   "execution_count": 34,
   "id": "e3fcfd80-cfba-45e2-8767-05bd5169b814",
   "metadata": {},
   "outputs": [
    {
     "data": {
      "text/plain": [
       "np.float64(22.0)"
      ]
     },
     "execution_count": 34,
     "metadata": {},
     "output_type": "execute_result"
    }
   ],
   "source": [
    "np.median(list(map(len, tokenizer(dataset['train']['text'])['input_ids'])))"
   ]
  },
  {
   "cell_type": "code",
   "execution_count": 35,
   "id": "4acb9268-2bce-4c6f-9814-dc2bbc6156cf",
   "metadata": {},
   "outputs": [],
   "source": [
    "tokenized_train = (tokenizer(dataset['train']['text'], return_tensors='pt', truncation=True, padding='max_length', max_length=22), dataset['train']['label'])\n",
    "tokenized_val = (tokenizer(dataset['validation']['text'], return_tensors='pt', truncation=True, padding='max_length', max_length=22), dataset['validation']['label'])\n",
    "tokenized_test = (tokenizer(dataset['test']['text'], return_tensors='pt', truncation=True, padding='max_length', max_length=22), dataset['test']['label'])"
   ]
  },
  {
   "cell_type": "code",
   "execution_count": 36,
   "id": "911ac45d-8c17-47b1-acba-9c4962552e50",
   "metadata": {
    "scrolled": true
   },
   "outputs": [
    {
     "ename": "RuntimeError",
     "evalue": "Expected all tensors to be on the same device, but found at least two devices, cuda:0 and cpu! (when checking argument for argument index in method wrapper_CUDA__index_select)",
     "output_type": "error",
     "traceback": [
      "\u001b[0;31m---------------------------------------------------------------------------\u001b[0m",
      "\u001b[0;31mRuntimeError\u001b[0m                              Traceback (most recent call last)",
      "Cell \u001b[0;32mIn[36], line 1\u001b[0m\n\u001b[0;32m----> 1\u001b[0m \u001b[43mbackbone\u001b[49m\u001b[43m(\u001b[49m\u001b[43mtokenized_train\u001b[49m\u001b[43m[\u001b[49m\u001b[38;5;241;43m0\u001b[39;49m\u001b[43m]\u001b[49m\u001b[43m[\u001b[49m\u001b[38;5;124;43m'\u001b[39;49m\u001b[38;5;124;43minput_ids\u001b[39;49m\u001b[38;5;124;43m'\u001b[39;49m\u001b[43m]\u001b[49m\u001b[43m[\u001b[49m\u001b[38;5;241;43m0\u001b[39;49m\u001b[43m:\u001b[49m\u001b[38;5;241;43m1\u001b[39;49m\u001b[43m]\u001b[49m\u001b[43m)\u001b[49m\u001b[38;5;241m.\u001b[39mpooler_output\u001b[38;5;241m.\u001b[39mshape\n",
      "File \u001b[0;32m~/Рабочий стол/NN-NLP/venv/lib/python3.12/site-packages/torch/nn/modules/module.py:1553\u001b[0m, in \u001b[0;36mModule._wrapped_call_impl\u001b[0;34m(self, *args, **kwargs)\u001b[0m\n\u001b[1;32m   1551\u001b[0m     \u001b[38;5;28;01mreturn\u001b[39;00m \u001b[38;5;28mself\u001b[39m\u001b[38;5;241m.\u001b[39m_compiled_call_impl(\u001b[38;5;241m*\u001b[39margs, \u001b[38;5;241m*\u001b[39m\u001b[38;5;241m*\u001b[39mkwargs)  \u001b[38;5;66;03m# type: ignore[misc]\u001b[39;00m\n\u001b[1;32m   1552\u001b[0m \u001b[38;5;28;01melse\u001b[39;00m:\n\u001b[0;32m-> 1553\u001b[0m     \u001b[38;5;28;01mreturn\u001b[39;00m \u001b[38;5;28;43mself\u001b[39;49m\u001b[38;5;241;43m.\u001b[39;49m\u001b[43m_call_impl\u001b[49m\u001b[43m(\u001b[49m\u001b[38;5;241;43m*\u001b[39;49m\u001b[43margs\u001b[49m\u001b[43m,\u001b[49m\u001b[43m \u001b[49m\u001b[38;5;241;43m*\u001b[39;49m\u001b[38;5;241;43m*\u001b[39;49m\u001b[43mkwargs\u001b[49m\u001b[43m)\u001b[49m\n",
      "File \u001b[0;32m~/Рабочий стол/NN-NLP/venv/lib/python3.12/site-packages/torch/nn/modules/module.py:1562\u001b[0m, in \u001b[0;36mModule._call_impl\u001b[0;34m(self, *args, **kwargs)\u001b[0m\n\u001b[1;32m   1557\u001b[0m \u001b[38;5;66;03m# If we don't have any hooks, we want to skip the rest of the logic in\u001b[39;00m\n\u001b[1;32m   1558\u001b[0m \u001b[38;5;66;03m# this function, and just call forward.\u001b[39;00m\n\u001b[1;32m   1559\u001b[0m \u001b[38;5;28;01mif\u001b[39;00m \u001b[38;5;129;01mnot\u001b[39;00m (\u001b[38;5;28mself\u001b[39m\u001b[38;5;241m.\u001b[39m_backward_hooks \u001b[38;5;129;01mor\u001b[39;00m \u001b[38;5;28mself\u001b[39m\u001b[38;5;241m.\u001b[39m_backward_pre_hooks \u001b[38;5;129;01mor\u001b[39;00m \u001b[38;5;28mself\u001b[39m\u001b[38;5;241m.\u001b[39m_forward_hooks \u001b[38;5;129;01mor\u001b[39;00m \u001b[38;5;28mself\u001b[39m\u001b[38;5;241m.\u001b[39m_forward_pre_hooks\n\u001b[1;32m   1560\u001b[0m         \u001b[38;5;129;01mor\u001b[39;00m _global_backward_pre_hooks \u001b[38;5;129;01mor\u001b[39;00m _global_backward_hooks\n\u001b[1;32m   1561\u001b[0m         \u001b[38;5;129;01mor\u001b[39;00m _global_forward_hooks \u001b[38;5;129;01mor\u001b[39;00m _global_forward_pre_hooks):\n\u001b[0;32m-> 1562\u001b[0m     \u001b[38;5;28;01mreturn\u001b[39;00m \u001b[43mforward_call\u001b[49m\u001b[43m(\u001b[49m\u001b[38;5;241;43m*\u001b[39;49m\u001b[43margs\u001b[49m\u001b[43m,\u001b[49m\u001b[43m \u001b[49m\u001b[38;5;241;43m*\u001b[39;49m\u001b[38;5;241;43m*\u001b[39;49m\u001b[43mkwargs\u001b[49m\u001b[43m)\u001b[49m\n\u001b[1;32m   1564\u001b[0m \u001b[38;5;28;01mtry\u001b[39;00m:\n\u001b[1;32m   1565\u001b[0m     result \u001b[38;5;241m=\u001b[39m \u001b[38;5;28;01mNone\u001b[39;00m\n",
      "File \u001b[0;32m~/.cache/huggingface/modules/transformers_modules/jinaai/xlm-roberta-flash-implementation/f221b0a29d7c2d0bfde4fd08a1bdb2bb5816acbc/modeling_lora.py:360\u001b[0m, in \u001b[0;36mXLMRobertaLoRA.forward\u001b[0;34m(self, *args, **kwargs)\u001b[0m\n\u001b[1;32m    359\u001b[0m \u001b[38;5;28;01mdef\u001b[39;00m \u001b[38;5;21mforward\u001b[39m(\u001b[38;5;28mself\u001b[39m, \u001b[38;5;241m*\u001b[39margs, \u001b[38;5;241m*\u001b[39m\u001b[38;5;241m*\u001b[39mkwargs):\n\u001b[0;32m--> 360\u001b[0m     \u001b[38;5;28;01mreturn\u001b[39;00m \u001b[38;5;28;43mself\u001b[39;49m\u001b[38;5;241;43m.\u001b[39;49m\u001b[43mroberta\u001b[49m\u001b[43m(\u001b[49m\u001b[38;5;241;43m*\u001b[39;49m\u001b[43margs\u001b[49m\u001b[43m,\u001b[49m\u001b[43m \u001b[49m\u001b[38;5;241;43m*\u001b[39;49m\u001b[38;5;241;43m*\u001b[39;49m\u001b[43mkwargs\u001b[49m\u001b[43m)\u001b[49m\n",
      "File \u001b[0;32m~/Рабочий стол/NN-NLP/venv/lib/python3.12/site-packages/torch/nn/modules/module.py:1553\u001b[0m, in \u001b[0;36mModule._wrapped_call_impl\u001b[0;34m(self, *args, **kwargs)\u001b[0m\n\u001b[1;32m   1551\u001b[0m     \u001b[38;5;28;01mreturn\u001b[39;00m \u001b[38;5;28mself\u001b[39m\u001b[38;5;241m.\u001b[39m_compiled_call_impl(\u001b[38;5;241m*\u001b[39margs, \u001b[38;5;241m*\u001b[39m\u001b[38;5;241m*\u001b[39mkwargs)  \u001b[38;5;66;03m# type: ignore[misc]\u001b[39;00m\n\u001b[1;32m   1552\u001b[0m \u001b[38;5;28;01melse\u001b[39;00m:\n\u001b[0;32m-> 1553\u001b[0m     \u001b[38;5;28;01mreturn\u001b[39;00m \u001b[38;5;28;43mself\u001b[39;49m\u001b[38;5;241;43m.\u001b[39;49m\u001b[43m_call_impl\u001b[49m\u001b[43m(\u001b[49m\u001b[38;5;241;43m*\u001b[39;49m\u001b[43margs\u001b[49m\u001b[43m,\u001b[49m\u001b[43m \u001b[49m\u001b[38;5;241;43m*\u001b[39;49m\u001b[38;5;241;43m*\u001b[39;49m\u001b[43mkwargs\u001b[49m\u001b[43m)\u001b[49m\n",
      "File \u001b[0;32m~/Рабочий стол/NN-NLP/venv/lib/python3.12/site-packages/torch/nn/modules/module.py:1562\u001b[0m, in \u001b[0;36mModule._call_impl\u001b[0;34m(self, *args, **kwargs)\u001b[0m\n\u001b[1;32m   1557\u001b[0m \u001b[38;5;66;03m# If we don't have any hooks, we want to skip the rest of the logic in\u001b[39;00m\n\u001b[1;32m   1558\u001b[0m \u001b[38;5;66;03m# this function, and just call forward.\u001b[39;00m\n\u001b[1;32m   1559\u001b[0m \u001b[38;5;28;01mif\u001b[39;00m \u001b[38;5;129;01mnot\u001b[39;00m (\u001b[38;5;28mself\u001b[39m\u001b[38;5;241m.\u001b[39m_backward_hooks \u001b[38;5;129;01mor\u001b[39;00m \u001b[38;5;28mself\u001b[39m\u001b[38;5;241m.\u001b[39m_backward_pre_hooks \u001b[38;5;129;01mor\u001b[39;00m \u001b[38;5;28mself\u001b[39m\u001b[38;5;241m.\u001b[39m_forward_hooks \u001b[38;5;129;01mor\u001b[39;00m \u001b[38;5;28mself\u001b[39m\u001b[38;5;241m.\u001b[39m_forward_pre_hooks\n\u001b[1;32m   1560\u001b[0m         \u001b[38;5;129;01mor\u001b[39;00m _global_backward_pre_hooks \u001b[38;5;129;01mor\u001b[39;00m _global_backward_hooks\n\u001b[1;32m   1561\u001b[0m         \u001b[38;5;129;01mor\u001b[39;00m _global_forward_hooks \u001b[38;5;129;01mor\u001b[39;00m _global_forward_pre_hooks):\n\u001b[0;32m-> 1562\u001b[0m     \u001b[38;5;28;01mreturn\u001b[39;00m \u001b[43mforward_call\u001b[49m\u001b[43m(\u001b[49m\u001b[38;5;241;43m*\u001b[39;49m\u001b[43margs\u001b[49m\u001b[43m,\u001b[49m\u001b[43m \u001b[49m\u001b[38;5;241;43m*\u001b[39;49m\u001b[38;5;241;43m*\u001b[39;49m\u001b[43mkwargs\u001b[49m\u001b[43m)\u001b[49m\n\u001b[1;32m   1564\u001b[0m \u001b[38;5;28;01mtry\u001b[39;00m:\n\u001b[1;32m   1565\u001b[0m     result \u001b[38;5;241m=\u001b[39m \u001b[38;5;28;01mNone\u001b[39;00m\n",
      "File \u001b[0;32m~/.cache/huggingface/modules/transformers_modules/jinaai/xlm-roberta-flash-implementation/f221b0a29d7c2d0bfde4fd08a1bdb2bb5816acbc/modeling_xlm_roberta.py:684\u001b[0m, in \u001b[0;36mXLMRobertaModel.forward\u001b[0;34m(self, input_ids, position_ids, token_type_ids, attention_mask, masked_tokens_mask, return_dict, **kwargs)\u001b[0m\n\u001b[1;32m    675\u001b[0m             logger\u001b[38;5;241m.\u001b[39mwarning(\n\u001b[1;32m    676\u001b[0m                 \u001b[38;5;124m\"\u001b[39m\u001b[38;5;124mFlash attention implementation does not support kwargs: \u001b[39m\u001b[38;5;132;01m%s\u001b[39;00m\u001b[38;5;124m\"\u001b[39m,\n\u001b[1;32m    677\u001b[0m                 key,\n\u001b[1;32m    678\u001b[0m             )\n\u001b[1;32m    680\u001b[0m return_dict \u001b[38;5;241m=\u001b[39m (\n\u001b[1;32m    681\u001b[0m     return_dict \u001b[38;5;28;01mif\u001b[39;00m return_dict \u001b[38;5;129;01mis\u001b[39;00m \u001b[38;5;129;01mnot\u001b[39;00m \u001b[38;5;28;01mNone\u001b[39;00m \u001b[38;5;28;01melse\u001b[39;00m \u001b[38;5;28mself\u001b[39m\u001b[38;5;241m.\u001b[39mconfig\u001b[38;5;241m.\u001b[39muse_return_dict\n\u001b[1;32m    682\u001b[0m )\n\u001b[0;32m--> 684\u001b[0m hidden_states \u001b[38;5;241m=\u001b[39m \u001b[38;5;28;43mself\u001b[39;49m\u001b[38;5;241;43m.\u001b[39;49m\u001b[43membeddings\u001b[49m\u001b[43m(\u001b[49m\n\u001b[1;32m    685\u001b[0m \u001b[43m    \u001b[49m\u001b[43minput_ids\u001b[49m\u001b[43m,\u001b[49m\n\u001b[1;32m    686\u001b[0m \u001b[43m    \u001b[49m\u001b[43mposition_ids\u001b[49m\u001b[38;5;241;43m=\u001b[39;49m\u001b[43mposition_ids\u001b[49m\u001b[43m,\u001b[49m\n\u001b[1;32m    687\u001b[0m \u001b[43m    \u001b[49m\u001b[43mtoken_type_ids\u001b[49m\u001b[38;5;241;43m=\u001b[39;49m\u001b[43mtoken_type_ids\u001b[49m\u001b[43m,\u001b[49m\n\u001b[1;32m    688\u001b[0m \u001b[43m    \u001b[49m\u001b[43madapter_mask\u001b[49m\u001b[38;5;241;43m=\u001b[39;49m\u001b[43madapter_mask\u001b[49m\u001b[43m,\u001b[49m\n\u001b[1;32m    689\u001b[0m \u001b[43m\u001b[49m\u001b[43m)\u001b[49m\n\u001b[1;32m    690\u001b[0m \u001b[38;5;66;03m# TD [2022-12:18]: Don't need to force residual in fp32\u001b[39;00m\n\u001b[1;32m    691\u001b[0m \u001b[38;5;66;03m# BERT puts embedding LayerNorm before embedding dropout.\u001b[39;00m\n\u001b[1;32m    692\u001b[0m \u001b[38;5;28;01mif\u001b[39;00m \u001b[38;5;129;01mnot\u001b[39;00m \u001b[38;5;28mself\u001b[39m\u001b[38;5;241m.\u001b[39mfused_dropout_add_ln:\n",
      "File \u001b[0;32m~/Рабочий стол/NN-NLP/venv/lib/python3.12/site-packages/torch/nn/modules/module.py:1553\u001b[0m, in \u001b[0;36mModule._wrapped_call_impl\u001b[0;34m(self, *args, **kwargs)\u001b[0m\n\u001b[1;32m   1551\u001b[0m     \u001b[38;5;28;01mreturn\u001b[39;00m \u001b[38;5;28mself\u001b[39m\u001b[38;5;241m.\u001b[39m_compiled_call_impl(\u001b[38;5;241m*\u001b[39margs, \u001b[38;5;241m*\u001b[39m\u001b[38;5;241m*\u001b[39mkwargs)  \u001b[38;5;66;03m# type: ignore[misc]\u001b[39;00m\n\u001b[1;32m   1552\u001b[0m \u001b[38;5;28;01melse\u001b[39;00m:\n\u001b[0;32m-> 1553\u001b[0m     \u001b[38;5;28;01mreturn\u001b[39;00m \u001b[38;5;28;43mself\u001b[39;49m\u001b[38;5;241;43m.\u001b[39;49m\u001b[43m_call_impl\u001b[49m\u001b[43m(\u001b[49m\u001b[38;5;241;43m*\u001b[39;49m\u001b[43margs\u001b[49m\u001b[43m,\u001b[49m\u001b[43m \u001b[49m\u001b[38;5;241;43m*\u001b[39;49m\u001b[38;5;241;43m*\u001b[39;49m\u001b[43mkwargs\u001b[49m\u001b[43m)\u001b[49m\n",
      "File \u001b[0;32m~/Рабочий стол/NN-NLP/venv/lib/python3.12/site-packages/torch/nn/modules/module.py:1562\u001b[0m, in \u001b[0;36mModule._call_impl\u001b[0;34m(self, *args, **kwargs)\u001b[0m\n\u001b[1;32m   1557\u001b[0m \u001b[38;5;66;03m# If we don't have any hooks, we want to skip the rest of the logic in\u001b[39;00m\n\u001b[1;32m   1558\u001b[0m \u001b[38;5;66;03m# this function, and just call forward.\u001b[39;00m\n\u001b[1;32m   1559\u001b[0m \u001b[38;5;28;01mif\u001b[39;00m \u001b[38;5;129;01mnot\u001b[39;00m (\u001b[38;5;28mself\u001b[39m\u001b[38;5;241m.\u001b[39m_backward_hooks \u001b[38;5;129;01mor\u001b[39;00m \u001b[38;5;28mself\u001b[39m\u001b[38;5;241m.\u001b[39m_backward_pre_hooks \u001b[38;5;129;01mor\u001b[39;00m \u001b[38;5;28mself\u001b[39m\u001b[38;5;241m.\u001b[39m_forward_hooks \u001b[38;5;129;01mor\u001b[39;00m \u001b[38;5;28mself\u001b[39m\u001b[38;5;241m.\u001b[39m_forward_pre_hooks\n\u001b[1;32m   1560\u001b[0m         \u001b[38;5;129;01mor\u001b[39;00m _global_backward_pre_hooks \u001b[38;5;129;01mor\u001b[39;00m _global_backward_hooks\n\u001b[1;32m   1561\u001b[0m         \u001b[38;5;129;01mor\u001b[39;00m _global_forward_hooks \u001b[38;5;129;01mor\u001b[39;00m _global_forward_pre_hooks):\n\u001b[0;32m-> 1562\u001b[0m     \u001b[38;5;28;01mreturn\u001b[39;00m \u001b[43mforward_call\u001b[49m\u001b[43m(\u001b[49m\u001b[38;5;241;43m*\u001b[39;49m\u001b[43margs\u001b[49m\u001b[43m,\u001b[49m\u001b[43m \u001b[49m\u001b[38;5;241;43m*\u001b[39;49m\u001b[38;5;241;43m*\u001b[39;49m\u001b[43mkwargs\u001b[49m\u001b[43m)\u001b[49m\n\u001b[1;32m   1564\u001b[0m \u001b[38;5;28;01mtry\u001b[39;00m:\n\u001b[1;32m   1565\u001b[0m     result \u001b[38;5;241m=\u001b[39m \u001b[38;5;28;01mNone\u001b[39;00m\n",
      "File \u001b[0;32m~/.cache/huggingface/modules/transformers_modules/jinaai/xlm-roberta-flash-implementation/f221b0a29d7c2d0bfde4fd08a1bdb2bb5816acbc/embedding.py:68\u001b[0m, in \u001b[0;36mXLMRobertaEmbeddings.forward\u001b[0;34m(self, input_ids, position_ids, token_type_ids, adapter_mask)\u001b[0m\n\u001b[1;32m     66\u001b[0m         embeddings[task_indices] \u001b[38;5;241m=\u001b[39m task_embeddings\n\u001b[1;32m     67\u001b[0m \u001b[38;5;28;01melse\u001b[39;00m:\n\u001b[0;32m---> 68\u001b[0m     embeddings \u001b[38;5;241m=\u001b[39m \u001b[38;5;28;43mself\u001b[39;49m\u001b[38;5;241;43m.\u001b[39;49m\u001b[43mword_embeddings\u001b[49m\u001b[43m(\u001b[49m\u001b[43minput_ids\u001b[49m\u001b[43m)\u001b[49m\n\u001b[1;32m     69\u001b[0m \u001b[38;5;28;01mif\u001b[39;00m \u001b[38;5;28mself\u001b[39m\u001b[38;5;241m.\u001b[39mmax_position_embeddings \u001b[38;5;241m>\u001b[39m \u001b[38;5;241m0\u001b[39m:\n\u001b[1;32m     70\u001b[0m     \u001b[38;5;28;01mif\u001b[39;00m position_ids \u001b[38;5;129;01mis\u001b[39;00m \u001b[38;5;28;01mNone\u001b[39;00m:\n",
      "File \u001b[0;32m~/Рабочий стол/NN-NLP/venv/lib/python3.12/site-packages/torch/nn/modules/module.py:1553\u001b[0m, in \u001b[0;36mModule._wrapped_call_impl\u001b[0;34m(self, *args, **kwargs)\u001b[0m\n\u001b[1;32m   1551\u001b[0m     \u001b[38;5;28;01mreturn\u001b[39;00m \u001b[38;5;28mself\u001b[39m\u001b[38;5;241m.\u001b[39m_compiled_call_impl(\u001b[38;5;241m*\u001b[39margs, \u001b[38;5;241m*\u001b[39m\u001b[38;5;241m*\u001b[39mkwargs)  \u001b[38;5;66;03m# type: ignore[misc]\u001b[39;00m\n\u001b[1;32m   1552\u001b[0m \u001b[38;5;28;01melse\u001b[39;00m:\n\u001b[0;32m-> 1553\u001b[0m     \u001b[38;5;28;01mreturn\u001b[39;00m \u001b[38;5;28;43mself\u001b[39;49m\u001b[38;5;241;43m.\u001b[39;49m\u001b[43m_call_impl\u001b[49m\u001b[43m(\u001b[49m\u001b[38;5;241;43m*\u001b[39;49m\u001b[43margs\u001b[49m\u001b[43m,\u001b[49m\u001b[43m \u001b[49m\u001b[38;5;241;43m*\u001b[39;49m\u001b[38;5;241;43m*\u001b[39;49m\u001b[43mkwargs\u001b[49m\u001b[43m)\u001b[49m\n",
      "File \u001b[0;32m~/Рабочий стол/NN-NLP/venv/lib/python3.12/site-packages/torch/nn/modules/module.py:1562\u001b[0m, in \u001b[0;36mModule._call_impl\u001b[0;34m(self, *args, **kwargs)\u001b[0m\n\u001b[1;32m   1557\u001b[0m \u001b[38;5;66;03m# If we don't have any hooks, we want to skip the rest of the logic in\u001b[39;00m\n\u001b[1;32m   1558\u001b[0m \u001b[38;5;66;03m# this function, and just call forward.\u001b[39;00m\n\u001b[1;32m   1559\u001b[0m \u001b[38;5;28;01mif\u001b[39;00m \u001b[38;5;129;01mnot\u001b[39;00m (\u001b[38;5;28mself\u001b[39m\u001b[38;5;241m.\u001b[39m_backward_hooks \u001b[38;5;129;01mor\u001b[39;00m \u001b[38;5;28mself\u001b[39m\u001b[38;5;241m.\u001b[39m_backward_pre_hooks \u001b[38;5;129;01mor\u001b[39;00m \u001b[38;5;28mself\u001b[39m\u001b[38;5;241m.\u001b[39m_forward_hooks \u001b[38;5;129;01mor\u001b[39;00m \u001b[38;5;28mself\u001b[39m\u001b[38;5;241m.\u001b[39m_forward_pre_hooks\n\u001b[1;32m   1560\u001b[0m         \u001b[38;5;129;01mor\u001b[39;00m _global_backward_pre_hooks \u001b[38;5;129;01mor\u001b[39;00m _global_backward_hooks\n\u001b[1;32m   1561\u001b[0m         \u001b[38;5;129;01mor\u001b[39;00m _global_forward_hooks \u001b[38;5;129;01mor\u001b[39;00m _global_forward_pre_hooks):\n\u001b[0;32m-> 1562\u001b[0m     \u001b[38;5;28;01mreturn\u001b[39;00m \u001b[43mforward_call\u001b[49m\u001b[43m(\u001b[49m\u001b[38;5;241;43m*\u001b[39;49m\u001b[43margs\u001b[49m\u001b[43m,\u001b[49m\u001b[43m \u001b[49m\u001b[38;5;241;43m*\u001b[39;49m\u001b[38;5;241;43m*\u001b[39;49m\u001b[43mkwargs\u001b[49m\u001b[43m)\u001b[49m\n\u001b[1;32m   1564\u001b[0m \u001b[38;5;28;01mtry\u001b[39;00m:\n\u001b[1;32m   1565\u001b[0m     result \u001b[38;5;241m=\u001b[39m \u001b[38;5;28;01mNone\u001b[39;00m\n",
      "File \u001b[0;32m~/.cache/huggingface/modules/transformers_modules/jinaai/xlm-roberta-flash-implementation/f221b0a29d7c2d0bfde4fd08a1bdb2bb5816acbc/modeling_lora.py:232\u001b[0m, in \u001b[0;36mLoRAParametrization.add_to_layer.<locals>.new_forward\u001b[0;34m(self, input, task_id)\u001b[0m\n\u001b[1;32m    229\u001b[0m \u001b[38;5;28;01melse\u001b[39;00m:\n\u001b[1;32m    230\u001b[0m     weights \u001b[38;5;241m=\u001b[39m \u001b[38;5;28mself\u001b[39m\u001b[38;5;241m.\u001b[39mweight\n\u001b[0;32m--> 232\u001b[0m out \u001b[38;5;241m=\u001b[39m \u001b[43mF\u001b[49m\u001b[38;5;241;43m.\u001b[39;49m\u001b[43membedding\u001b[49m\u001b[43m(\u001b[49m\n\u001b[1;32m    233\u001b[0m \u001b[43m    \u001b[49m\u001b[38;5;28;43minput\u001b[39;49m\u001b[43m,\u001b[49m\n\u001b[1;32m    234\u001b[0m \u001b[43m    \u001b[49m\u001b[43mweights\u001b[49m\u001b[43m,\u001b[49m\n\u001b[1;32m    235\u001b[0m \u001b[43m    \u001b[49m\u001b[38;5;28;43mself\u001b[39;49m\u001b[38;5;241;43m.\u001b[39;49m\u001b[43mpadding_idx\u001b[49m\u001b[43m,\u001b[49m\n\u001b[1;32m    236\u001b[0m \u001b[43m    \u001b[49m\u001b[38;5;28;43mself\u001b[39;49m\u001b[38;5;241;43m.\u001b[39;49m\u001b[43mmax_norm\u001b[49m\u001b[43m,\u001b[49m\n\u001b[1;32m    237\u001b[0m \u001b[43m    \u001b[49m\u001b[38;5;28;43mself\u001b[39;49m\u001b[38;5;241;43m.\u001b[39;49m\u001b[43mnorm_type\u001b[49m\u001b[43m,\u001b[49m\n\u001b[1;32m    238\u001b[0m \u001b[43m    \u001b[49m\u001b[38;5;28;43mself\u001b[39;49m\u001b[38;5;241;43m.\u001b[39;49m\u001b[43mscale_grad_by_freq\u001b[49m\u001b[43m,\u001b[49m\n\u001b[1;32m    239\u001b[0m \u001b[43m    \u001b[49m\u001b[38;5;28;43mself\u001b[39;49m\u001b[38;5;241;43m.\u001b[39;49m\u001b[43msparse\u001b[49m\u001b[43m,\u001b[49m\n\u001b[1;32m    240\u001b[0m \u001b[43m\u001b[49m\u001b[43m)\u001b[49m\n\u001b[1;32m    242\u001b[0m \u001b[38;5;28;01mreturn\u001b[39;00m out\n",
      "File \u001b[0;32m~/Рабочий стол/NN-NLP/venv/lib/python3.12/site-packages/torch/nn/functional.py:2267\u001b[0m, in \u001b[0;36membedding\u001b[0;34m(input, weight, padding_idx, max_norm, norm_type, scale_grad_by_freq, sparse)\u001b[0m\n\u001b[1;32m   2261\u001b[0m     \u001b[38;5;66;03m# Note [embedding_renorm set_grad_enabled]\u001b[39;00m\n\u001b[1;32m   2262\u001b[0m     \u001b[38;5;66;03m# XXX: equivalent to\u001b[39;00m\n\u001b[1;32m   2263\u001b[0m     \u001b[38;5;66;03m# with torch.no_grad():\u001b[39;00m\n\u001b[1;32m   2264\u001b[0m     \u001b[38;5;66;03m#   torch.embedding_renorm_\u001b[39;00m\n\u001b[1;32m   2265\u001b[0m     \u001b[38;5;66;03m# remove once script supports set_grad_enabled\u001b[39;00m\n\u001b[1;32m   2266\u001b[0m     _no_grad_embedding_renorm_(weight, \u001b[38;5;28minput\u001b[39m, max_norm, norm_type)\n\u001b[0;32m-> 2267\u001b[0m \u001b[38;5;28;01mreturn\u001b[39;00m \u001b[43mtorch\u001b[49m\u001b[38;5;241;43m.\u001b[39;49m\u001b[43membedding\u001b[49m\u001b[43m(\u001b[49m\u001b[43mweight\u001b[49m\u001b[43m,\u001b[49m\u001b[43m \u001b[49m\u001b[38;5;28;43minput\u001b[39;49m\u001b[43m,\u001b[49m\u001b[43m \u001b[49m\u001b[43mpadding_idx\u001b[49m\u001b[43m,\u001b[49m\u001b[43m \u001b[49m\u001b[43mscale_grad_by_freq\u001b[49m\u001b[43m,\u001b[49m\u001b[43m \u001b[49m\u001b[43msparse\u001b[49m\u001b[43m)\u001b[49m\n",
      "\u001b[0;31mRuntimeError\u001b[0m: Expected all tensors to be on the same device, but found at least two devices, cuda:0 and cpu! (when checking argument for argument index in method wrapper_CUDA__index_select)"
     ]
    }
   ],
   "source": [
    "backbone(tokenized_train[0]['input_ids'][0:1]).pooler_output.shape"
   ]
  },
  {
   "cell_type": "code",
   "execution_count": 37,
   "id": "5da51dc3-9947-4dbd-aa16-ec389a5fb850",
   "metadata": {},
   "outputs": [],
   "source": [
    "class Tokenized_dataset(torch.utils.data.Dataset):\n",
    "    def __init__(self, X, y):\n",
    "        super().__init__()\n",
    "        self.X1 = torch.Tensor(X['input_ids']).to(device)\n",
    "        self.y = torch.Tensor(y).to(device, dtype=torch.int32)\n",
    "        \n",
    "    def __getitem__(self, i):\n",
    "        return self.X1[i], self.y[i]\n",
    "\n",
    "    def __len__(self):\n",
    "        return len(self.X1)"
   ]
  },
  {
   "cell_type": "code",
   "execution_count": 38,
   "id": "0c6d68c1-e449-4404-8a29-0a6419cfc0c6",
   "metadata": {
    "scrolled": true
   },
   "outputs": [
    {
     "name": "stdout",
     "output_type": "stream",
     "text": [
      "1.5873015873015872 %\n",
      "3.1746031746031744 %\n",
      "4.761904761904762 %\n",
      "6.349206349206349 %\n",
      "7.936507936507936 %\n",
      "9.523809523809524 %\n",
      "11.11111111111111 %\n",
      "12.698412698412698 %\n",
      "14.285714285714285 %\n",
      "15.873015873015872 %\n",
      "17.46031746031746 %\n",
      "19.047619047619047 %\n",
      "20.634920634920633 %\n",
      "22.22222222222222 %\n",
      "23.809523809523807 %\n",
      "25.396825396825395 %\n",
      "26.984126984126984 %\n",
      "28.57142857142857 %\n",
      "30.158730158730158 %\n",
      "31.746031746031743 %\n",
      "33.33333333333333 %\n",
      "34.92063492063492 %\n",
      "36.507936507936506 %\n",
      "38.095238095238095 %\n",
      "39.682539682539684 %\n",
      "41.269841269841265 %\n",
      "42.857142857142854 %\n",
      "44.44444444444444 %\n",
      "46.03174603174603 %\n",
      "47.61904761904761 %\n",
      "49.2063492063492 %\n",
      "50.79365079365079 %\n",
      "52.38095238095239 %\n",
      "53.96825396825397 %\n",
      "55.55555555555556 %\n",
      "57.14285714285714 %\n",
      "58.730158730158735 %\n",
      "60.317460317460316 %\n",
      "61.904761904761905 %\n",
      "63.49206349206349 %\n",
      "65.07936507936508 %\n",
      "66.66666666666666 %\n",
      "68.25396825396825 %\n",
      "69.84126984126983 %\n",
      "71.42857142857143 %\n",
      "73.01587301587301 %\n",
      "74.60317460317461 %\n",
      "76.19047619047619 %\n",
      "77.77777777777779 %\n",
      "79.36507936507937 %\n",
      "80.95238095238095 %\n",
      "82.53968253968253 %\n",
      "84.12698412698413 %\n",
      "85.71428571428571 %\n",
      "87.3015873015873 %\n",
      "88.88888888888889 %\n",
      "90.47619047619048 %\n",
      "92.06349206349206 %\n",
      "93.65079365079364 %\n",
      "95.23809523809523 %\n",
      "96.82539682539682 %\n",
      "98.4126984126984 %\n",
      "100.0 %\n"
     ]
    }
   ],
   "source": [
    "tokenizer_data = Tokenized_dataset(*tokenized_train)\n",
    "tokenizer_data_loader = torch.utils.data.DataLoader(tokenizer_data, batch_size=256, shuffle=False)\n",
    "\n",
    "vectorized_train = []\n",
    "train_y = []\n",
    "\n",
    "for i, batch in enumerate(tokenizer_data_loader):\n",
    "    inp, y = batch\n",
    "    vectorized_train.extend(backbone(inp).pooler_output.tolist())\n",
    "    train_y.extend(y.tolist())\n",
    "    print(f'{(i+1) / len(tokenizer_data_loader) * 100} %')"
   ]
  },
  {
   "cell_type": "code",
   "execution_count": 39,
   "id": "7ad58e05-d6d4-4287-8a7d-042a1a99ce89",
   "metadata": {},
   "outputs": [
    {
     "name": "stdout",
     "output_type": "stream",
     "text": [
      "12.5 %\n",
      "25.0 %\n",
      "37.5 %\n",
      "50.0 %\n",
      "62.5 %\n",
      "75.0 %\n",
      "87.5 %\n",
      "100.0 %\n"
     ]
    }
   ],
   "source": [
    "tokenizer_data = Tokenized_dataset(*tokenized_val)\n",
    "tokenizer_data_loader = torch.utils.data.DataLoader(tokenizer_data, batch_size=256, shuffle=False)\n",
    "\n",
    "vectorized_val = []\n",
    "val_y = []\n",
    "\n",
    "for i, batch in enumerate(tokenizer_data_loader):\n",
    "    inp, y = batch\n",
    "    vectorized_val.extend(backbone(inp).pooler_output.tolist())\n",
    "    val_y.extend(y.tolist())\n",
    "    print(f'{(i+1) / len(tokenizer_data_loader) * 100} %')"
   ]
  },
  {
   "cell_type": "code",
   "execution_count": 40,
   "id": "32e96286-0629-4a32-ae3f-c6030a8ac7ca",
   "metadata": {},
   "outputs": [
    {
     "name": "stdout",
     "output_type": "stream",
     "text": [
      "12.5 %\n",
      "25.0 %\n",
      "37.5 %\n",
      "50.0 %\n",
      "62.5 %\n",
      "75.0 %\n",
      "87.5 %\n",
      "100.0 %\n"
     ]
    }
   ],
   "source": [
    "tokenizer_data = Tokenized_dataset(*tokenized_test)\n",
    "tokenizer_data_loader = torch.utils.data.DataLoader(tokenizer_data, batch_size=256, shuffle=False)\n",
    "\n",
    "vectorized_test = []\n",
    "test_y = []\n",
    "\n",
    "for i, batch in enumerate(tokenizer_data_loader):\n",
    "    inp, y = batch\n",
    "    vectorized_test.extend(backbone(inp).pooler_output.tolist())\n",
    "    test_y.extend(y.tolist())\n",
    "    print(f'{(i+1) / len(tokenizer_data_loader) * 100} %')"
   ]
  },
  {
   "cell_type": "code",
   "execution_count": 41,
   "id": "8315a473-2008-41b8-bcd0-cdc756462575",
   "metadata": {},
   "outputs": [],
   "source": [
    "with open('train_vect.pkl', 'wb') as f:\n",
    "    pickle.dump(vectorized_train, f)\n",
    "with open('train_y.pkl', 'wb') as f:\n",
    "    pickle.dump(train_y, f)\n",
    "\n",
    "with open('val_vect.pkl', 'wb') as f:\n",
    "    pickle.dump(vectorized_val, f)\n",
    "with open('val_y.pkl', 'wb') as f:\n",
    "    pickle.dump(val_y, f)\n",
    "\n",
    "with open('test_vect.pkl', 'wb') as f:\n",
    "    pickle.dump(vectorized_test, f)\n",
    "with open('test_y.pkl', 'wb') as f:\n",
    "    pickle.dump(test_y, f)"
   ]
  },
  {
   "cell_type": "markdown",
   "id": "4a2b4b64-ee2e-4a2a-8d81-161f8bf1aae4",
   "metadata": {},
   "source": [
    "Run the backbone on the sequences and save the extracted features. The extracted features should be a vector containing information about the whole text. If the features are too large to be stored in memory, lazily save them on disk."
   ]
  },
  {
   "cell_type": "code",
   "execution_count": null,
   "id": "4c81f850-a0ca-4951-8677-0597aedb21b6",
   "metadata": {},
   "outputs": [],
   "source": []
  },
  {
   "cell_type": "markdown",
   "id": "2543fcff-46b0-4c05-b297-c3102f998205",
   "metadata": {},
   "source": [
    "# Prepare train/test data"
   ]
  },
  {
   "cell_type": "markdown",
   "id": "2c985c7d-9123-477e-9988-15ff5a7b26eb",
   "metadata": {},
   "source": [
    "Split your data (extracted features and labels) into train and test subsets."
   ]
  },
  {
   "cell_type": "code",
   "execution_count": 28,
   "id": "5460c05a-f5e7-4935-a6ff-074ca21fa01b",
   "metadata": {},
   "outputs": [],
   "source": [
    "X_train, X_test, y_train, y_test = train_test_split(vectorized_train, train_y, shuffle=True, train_size=0.7)"
   ]
  },
  {
   "cell_type": "markdown",
   "id": "b1a65639-50d0-4f89-8bfe-33b7a483e406",
   "metadata": {},
   "source": [
    "Prepare `tf.data.Dataset` or some other way for the data to be used during training."
   ]
  },
  {
   "cell_type": "code",
   "execution_count": 42,
   "id": "07849c2e-c7d1-4620-9590-962fa554ed8f",
   "metadata": {},
   "outputs": [],
   "source": [
    "class Dataset(torch.utils.data.Dataset):\n",
    "    def __init__(self, X, y):\n",
    "        super().__init__()\n",
    "        self.X = torch.Tensor(X).to(device, dtype=torch.float32)\n",
    "        self.y = torch.LongTensor(y).to(device)\n",
    "\n",
    "    def __getitem__(self, i):\n",
    "        return self.X[i], self.y[i]\n",
    "\n",
    "    def __len__(self):\n",
    "        return len(self.X)"
   ]
  },
  {
   "cell_type": "code",
   "execution_count": 31,
   "id": "a4f269d8-1cee-4bc8-9b86-67aa25d86896",
   "metadata": {},
   "outputs": [],
   "source": [
    "train_data = Dataset(X_train, y_train)\n",
    "train_data_loader = torch.utils.data.DataLoader(train_data, batch_size=512, shuffle=True)\n",
    "\n",
    "val_data = Dataset(X_test, y_test)\n",
    "val_data_loader = torch.utils.data.DataLoader(val_data, batch_size=512, shuffle=True)\n",
    "\n",
    "# test_data = Dataset(vectorized_test, test_y)\n",
    "# test_data_loader = torch.utils.data.DataLoader(test_data, batch_size=128, shuffle=True)"
   ]
  },
  {
   "cell_type": "code",
   "execution_count": 43,
   "id": "00a99170-0209-4e68-bd85-ef8242bfdcfc",
   "metadata": {},
   "outputs": [],
   "source": [
    "train_data = Dataset(vectorized_train, train_y)\n",
    "train_data_loader = torch.utils.data.DataLoader(train_data, batch_size=128, shuffle=True)\n",
    "\n",
    "val_data = Dataset(vectorized_val, val_y)\n",
    "val_data_loader = torch.utils.data.DataLoader(val_data, batch_size=128, shuffle=True)\n",
    "\n",
    "test_data = Dataset(vectorized_test, test_y)\n",
    "test_data_loader = torch.utils.data.DataLoader(test_data, batch_size=128, shuffle=True)"
   ]
  },
  {
   "cell_type": "markdown",
   "id": "e8f74abd-ce1a-4a68-be6c-89b1abd0caa5",
   "metadata": {},
   "source": [
    "# Build the model"
   ]
  },
  {
   "cell_type": "markdown",
   "id": "78885e31-c91e-4ee5-acbf-00a107069da9",
   "metadata": {},
   "source": [
    "Build a simple model. The model should accept an extracted feature vector and return a vector of class logits (or probabilities). Model should only have a couple (or even 1) layer with weights."
   ]
  },
  {
   "cell_type": "code",
   "execution_count": 800,
   "id": "2742e88f-ff02-4cb2-bbe6-1ecbfc59b1cf",
   "metadata": {},
   "outputs": [],
   "source": [
    "class Model(torch.nn.Module):\n",
    "    def __init__(self, n_classes, backbone):\n",
    "        super(Model, self).__init__()\n",
    "        self.backbone = backbone\n",
    "        self.L1 = torch.nn.LazyLinear(512)\n",
    "        self.dropout = torch.nn.Dropout(0.4)\n",
    "        self.classifier = torch.nn.LazyLinear(n_classes)\n",
    "\n",
    "    def forward(self, x, inp_text):\n",
    "        if inp_text is not None:\n",
    "            x = self.backbone(inp_text).pooler_output.to(dtype=torch.float)\n",
    "        x = self.dropout(x)\n",
    "        x = self.L1(x)\n",
    "        x = torch.nn.functional.relu(x)\n",
    "        #x = torch.flatten(x)\n",
    "        #x = x.view(x.shape[0], -1)\n",
    "        x = self.dropout(x)\n",
    "        out = self.classifier(x)\n",
    "        return out"
   ]
  },
  {
   "cell_type": "code",
   "execution_count": 801,
   "id": "4522f1a0-1555-4dcd-9117-3e975d6f781b",
   "metadata": {},
   "outputs": [],
   "source": [
    "model = Model(len(np.unique(train_y)), backbone).to(device)"
   ]
  },
  {
   "cell_type": "code",
   "execution_count": 802,
   "id": "4886f405-b911-4ecb-85d3-c264c08092f0",
   "metadata": {},
   "outputs": [
    {
     "data": {
      "text/plain": [
       "=========================================================================================================\n",
       "Layer (type:depth-idx)                                                           Param #\n",
       "=========================================================================================================\n",
       "Model                                                                            559,364,096\n",
       "├─XLMRobertaLoRA: 1-1                                                            --\n",
       "│    └─XLMRobertaModel: 2-1                                                      --\n",
       "│    │    └─XLMRobertaEmbeddings: 3-1                                            261,044,092\n",
       "│    │    └─Dropout: 3-2                                                         --\n",
       "│    │    └─LayerNorm: 3-3                                                       (2,048)\n",
       "│    │    └─XLMRobertaEncoder: 3-4                                               310,173,696\n",
       "│    │    └─XLMRobertaPooler: 3-5                                                1,090,560\n",
       "├─LazyLinear: 1-2                                                                --\n",
       "├─Dropout: 1-3                                                                   --\n",
       "├─LazyLinear: 1-4                                                                --\n",
       "=========================================================================================================\n",
       "Total params: 1,131,674,492\n",
       "Trainable params: 12,946,300\n",
       "Non-trainable params: 1,118,728,192\n",
       "========================================================================================================="
      ]
     },
     "execution_count": 802,
     "metadata": {},
     "output_type": "execute_result"
    }
   ],
   "source": [
    "summary(model)"
   ]
  },
  {
   "cell_type": "markdown",
   "id": "a5cacc4e-9876-40ff-8cd0-f1a4bfbc5c1a",
   "metadata": {},
   "source": [
    "Compile the model. Choose loss and metrics."
   ]
  },
  {
   "cell_type": "code",
   "execution_count": 803,
   "id": "b58d6050-3e1f-47cb-a1b7-f5e8753faf38",
   "metadata": {},
   "outputs": [
    {
     "data": {
      "text/plain": [
       "<BarContainer object of 6 artists>"
      ]
     },
     "execution_count": 803,
     "metadata": {},
     "output_type": "execute_result"
    },
    {
     "data": {
      "image/png": "[encoded data removed]",
      "text/plain": [
       "<Figure size 640x480 with 1 Axes>"
      ]
     },
     "metadata": {},
     "output_type": "display_data"
    }
   ],
   "source": [
    "plt.bar(*np.unique(train_y, return_counts=True))"
   ]
  },
  {
   "cell_type": "code",
   "execution_count": 804,
   "id": "558383b9-9da2-4756-84d1-bf914285e1cf",
   "metadata": {},
   "outputs": [
    {
     "data": {
      "text/plain": [
       "tensor([0.5715, 0.4973, 2.0450, 1.2351, 1.3767, 4.6620], device='cuda:0')"
      ]
     },
     "execution_count": 804,
     "metadata": {},
     "output_type": "execute_result"
    }
   ],
   "source": [
    "counts = torch.unique(torch.Tensor(train_y).to(device), return_counts=True)[-1] #торч требовал чтобы weights был torch.Tensor\n",
    "weights = (1/counts) * (sum(counts) / len(counts))\n",
    "weights"
   ]
  },
  {
   "cell_type": "code",
   "execution_count": 805,
   "id": "ad74527b-c793-40da-af8e-66172db170f1",
   "metadata": {},
   "outputs": [],
   "source": [
    "optimizer = torch.optim.Adam(model.parameters(), lr=0.001)\n",
    "#criterion = torch.nn.CrossEntropyLoss(weight=weights).to(device)\n",
    "criterion = torch.nn.CrossEntropyLoss().to(device)"
   ]
  },
  {
   "cell_type": "markdown",
   "id": "3e08006d-be0a-4828-aca9-a9f37218b8de",
   "metadata": {},
   "source": [
    "# Train the model"
   ]
  },
  {
   "cell_type": "code",
   "execution_count": 806,
   "id": "6a30787b-7ac4-4dd3-9ea5-62c94e9aa628",
   "metadata": {},
   "outputs": [],
   "source": [
    "def metric(y, y_logits):\n",
    "    return ((y == y_logits.argmax(dim=-1)).sum() / len(y)).tolist()"
   ]
  },
  {
   "cell_type": "code",
   "execution_count": 807,
   "id": "36e1e090-faf5-4c2c-a290-18365ecd3889",
   "metadata": {},
   "outputs": [],
   "source": [
    "def train_epoch(model, optimizer, criterion, data):\n",
    "    model.train()\n",
    "    total_loss = 0\n",
    "    total_metric = 0\n",
    "\n",
    "    for x, y in data:\n",
    "        optimizer.zero_grad()\n",
    "        y_pred = model(x, None)\n",
    "        loss = criterion(y_pred, y)\n",
    "\n",
    "        loss.backward()\n",
    "        optimizer.step()\n",
    "\n",
    "        total_loss += loss.item()\n",
    "        total_metric += metric(y, y_pred)\n",
    "\n",
    "    return total_loss / len(data), total_metric / len(data)"
   ]
  },
  {
   "cell_type": "code",
   "execution_count": 808,
   "id": "acd036fb-c165-4acf-805d-a2032a24fd87",
   "metadata": {},
   "outputs": [],
   "source": [
    "def evaluate(model, criterion, data):\n",
    "    model.eval()\n",
    "    total_loss = 0\n",
    "    total_metric = 0\n",
    "    with torch.no_grad():\n",
    "        for x, y in data:\n",
    "            y_pred = model(x, None)\n",
    "            loss = criterion(y_pred, y)\n",
    "            total_loss += loss.item()\n",
    "            total_metric += metric(y, y_pred)\n",
    "\n",
    "    return total_loss / len(data), total_metric / len(data)"
   ]
  },
  {
   "cell_type": "code",
   "execution_count": 809,
   "id": "5e57d6e5-d355-4d11-817e-2439a27707a3",
   "metadata": {},
   "outputs": [],
   "source": [
    "def train(model, optimizer, criterion, train_data, test_data, epochs, print_every=1):\n",
    "    train_plot = []\n",
    "    eval_plot = []\n",
    "    scheduler = torch.optim.lr_scheduler.ReduceLROnPlateau(optimizer, 'min')\n",
    "    for epoch in range(epochs):\n",
    "        train_loss, train_metric = train_epoch(model, optimizer, criterion, train_data)\n",
    "        eval_loss, eval_metric = evaluate(model, criterion, test_data)\n",
    "        #scheduler.step(eval_loss)\n",
    "        train_plot.append(train_loss)\n",
    "        eval_plot.append(eval_loss)\n",
    "        if (epoch+1) % print_every == 0:\n",
    "            print(f'EPOCH: {epoch+1}')\n",
    "            print(f'TRAIN: {train_loss :.2f} loss | {train_metric * 100 :.2f}% metric')\n",
    "            print(f'EVAL: {eval_loss :.2f} loss | {eval_metric * 100 :.2f}% metric')\n",
    "            print(f'LR: {scheduler.get_last_lr()}')\n",
    "            print('='*40)\n",
    "            \n",
    "    plt.plot(range(epochs), train_plot, label='train')\n",
    "    plt.plot(range(epochs), eval_plot, label='val')\n",
    "    plt.ylabel('loss')\n",
    "    plt.xlabel('epochs')\n",
    "    plt.legend()"
   ]
  },
  {
   "cell_type": "code",
   "execution_count": 794,
   "id": "3f2443c5-36a6-4777-8687-9ae91499d89d",
   "metadata": {},
   "outputs": [
    {
     "name": "stdout",
     "output_type": "stream",
     "text": [
      "EPOCH: 10\n",
      "TRAIN: 1.02 loss | 58.80% metric\n",
      "EVAL: 0.98 loss | 62.14% metric\n",
      "LR: [0.001]\n",
      "========================================\n",
      "EPOCH: 20\n",
      "TRAIN: 0.88 loss | 63.49% metric\n",
      "EVAL: 0.98 loss | 64.68% metric\n",
      "LR: [0.001]\n",
      "========================================\n",
      "EPOCH: 30\n",
      "TRAIN: 0.77 loss | 67.17% metric\n",
      "EVAL: 0.99 loss | 64.54% metric\n",
      "LR: [0.001]\n",
      "========================================\n",
      "EPOCH: 40\n",
      "TRAIN: 0.69 loss | 69.57% metric\n",
      "EVAL: 1.01 loss | 64.40% metric\n",
      "LR: [0.001]\n",
      "========================================\n",
      "EPOCH: 50\n",
      "TRAIN: 0.63 loss | 71.51% metric\n",
      "EVAL: 1.10 loss | 66.06% metric\n",
      "LR: [0.001]\n",
      "========================================\n"
     ]
    },
    {
     "data": {
      "image/png": "[encoded data removed]",
      "text/plain": [
       "<Figure size 640x480 with 1 Axes>"
      ]
     },
     "metadata": {},
     "output_type": "display_data"
    }
   ],
   "source": [
    "#здесь я применил веса и получилось хуже(\n",
    "train(model, optimizer, criterion, train_data_loader, val_data_loader, 50, print_every=10)"
   ]
  },
  {
   "cell_type": "code",
   "execution_count": 810,
   "id": "34105216-3167-4de9-90d1-96792ea9b981",
   "metadata": {},
   "outputs": [
    {
     "name": "stdout",
     "output_type": "stream",
     "text": [
      "EPOCH: 10\n",
      "TRAIN: 0.92 loss | 65.76% metric\n",
      "EVAL: 0.88 loss | 67.69% metric\n",
      "LR: [0.001]\n",
      "========================================\n",
      "EPOCH: 20\n",
      "TRAIN: 0.82 loss | 69.97% metric\n",
      "EVAL: 0.86 loss | 68.70% metric\n",
      "LR: [0.001]\n",
      "========================================\n",
      "EPOCH: 30\n",
      "TRAIN: 0.73 loss | 72.63% metric\n",
      "EVAL: 0.84 loss | 69.84% metric\n",
      "LR: [0.001]\n",
      "========================================\n",
      "EPOCH: 40\n",
      "TRAIN: 0.68 loss | 75.17% metric\n",
      "EVAL: 0.85 loss | 68.54% metric\n",
      "LR: [0.001]\n",
      "========================================\n",
      "EPOCH: 50\n",
      "TRAIN: 0.63 loss | 76.60% metric\n",
      "EVAL: 0.85 loss | 68.32% metric\n",
      "LR: [0.001]\n",
      "========================================\n"
     ]
    },
    {
     "data": {
      "image/png": "[encoded data removed]",
      "text/plain": [
       "<Figure size 640x480 with 1 Axes>"
      ]
     },
     "metadata": {},
     "output_type": "display_data"
    }
   ],
   "source": [
    "train(model, optimizer, criterion, train_data_loader, val_data_loader, 50, print_every=10)"
   ]
  },
  {
   "cell_type": "markdown",
   "id": "3980f062-220a-4a11-b9f5-3b0e41804533",
   "metadata": {},
   "source": [
    "# Evaluation"
   ]
  },
  {
   "cell_type": "markdown",
   "id": "4b6008a2-9882-44f2-946c-23827aa5fa49",
   "metadata": {},
   "source": [
    "Evalute the model on test data."
   ]
  },
  {
   "cell_type": "code",
   "execution_count": 811,
   "id": "1b4ddf9e-5710-4c7f-ac58-4d94742c0d14",
   "metadata": {},
   "outputs": [
    {
     "name": "stdout",
     "output_type": "stream",
     "text": [
      "TEST DATA: loss = 0.88, metric = 0.69%\n"
     ]
    }
   ],
   "source": [
    "print('TEST DATA: loss = {0:.2f}, metric = {1:.2f}%'.format(*evaluate(model, criterion, test_data_loader)))"
   ]
  },
  {
   "cell_type": "markdown",
   "id": "c96f4ae8-6b6c-4c4d-94dc-be8062b7e982",
   "metadata": {},
   "source": [
    "Plot confusion matrix."
   ]
  },
  {
   "cell_type": "code",
   "execution_count": 812,
   "id": "b092eae2-5f9a-42cc-ba04-ae9b9f67df7e",
   "metadata": {},
   "outputs": [
    {
     "data": {
      "text/plain": [
       "[Text(0, 0, 'sadness'),\n",
       " Text(0, 1, 'joy'),\n",
       " Text(0, 2, 'love'),\n",
       " Text(0, 3, 'anger'),\n",
       " Text(0, 4, 'fear'),\n",
       " Text(0, 5, 'surprise')]"
      ]
     },
     "execution_count": 812,
     "metadata": {},
     "output_type": "execute_result"
    },
    {
     "data": {
      "image/png": "[encoded data removed]",
      "text/plain": [
       "<Figure size 1000x1000 with 2 Axes>"
      ]
     },
     "metadata": {},
     "output_type": "display_data"
    }
   ],
   "source": [
    "#vectorized_test, test_y\n",
    "y_preds = model(torch.Tensor(vectorized_test).to(device), None).argmax(dim=-1)\n",
    "fig, ax = plt.subplots(figsize=(10, 10))\n",
    "ConfusionMatrixDisplay.from_predictions(test_y, y_preds.cpu(), ax=ax)\n",
    "ax.xaxis.set_ticklabels(class2idx.keys())\n",
    "ax.tick_params(axis='x', labelrotation=90)\n",
    "ax.yaxis.set_ticklabels(class2idx.keys())"
   ]
  },
  {
   "cell_type": "markdown",
   "id": "6997d559-de7f-4e67-96f1-85df047dcbb7",
   "metadata": {},
   "source": [
    "Write a function to classify a piece of text."
   ]
  },
  {
   "cell_type": "code",
   "execution_count": 813,
   "id": "21a748d8-b5a2-4f90-a3d8-ee36d69d34fb",
   "metadata": {},
   "outputs": [],
   "source": [
    "def classify_text(text: str) -> tuple[int | str, np.ndarray]:\n",
    "    '''Classifes the given `text` using the trained model.\n",
    "\n",
    "    Arguments:\n",
    "        text: text to be classified\n",
    "\n",
    "    Return:\n",
    "        The assigned label and probabilites of all labels'''\n",
    "    model.eval()\n",
    "    text = tokenizer(text, return_tensors='pt')['input_ids'].to(device)\n",
    "    res = model(None, text)\n",
    "    return res.argmax(dim=-1).item()"
   ]
  },
  {
   "cell_type": "markdown",
   "id": "8f2043ad-8f1b-4c17-8f11-23487f66db5f",
   "metadata": {},
   "source": [
    "Evaluate the model on text not present in training and test data (come up with the text yourself). Try to get an input for each class."
   ]
  },
  {
   "cell_type": "code",
   "execution_count": 817,
   "id": "84cd1570-498d-496c-be9d-085e1fcd7574",
   "metadata": {},
   "outputs": [
    {
     "data": {
      "text/plain": [
       "dict_values(['sadness', 'joy', 'love', 'anger', 'fear', 'surprise'])"
      ]
     },
     "execution_count": 817,
     "metadata": {},
     "output_type": "execute_result"
    }
   ],
   "source": [
    "idx2class.values()"
   ]
  },
  {
   "cell_type": "code",
   "execution_count": 952,
   "id": "b27c5386-cc1b-4040-a5b7-cb8d26965fd4",
   "metadata": {},
   "outputs": [
    {
     "name": "stdout",
     "output_type": "stream",
     "text": [
      " \"Hello honey:)\" are love sentence\n",
      " \"Joker, are you mad?!\" are anger sentence\n",
      " \"Happy birthday!\" are joy sentence\n",
      " \"i miss my neighborhood\" are sadness sentence\n",
      " \"Dad, check for monsters under the bed\" are fear sentence\n",
      " \"For the first time, this old fighter was surprised to feel tired\" are sadness sentence\n",
      " \"It was a surprise!\" are surprise sentence\n",
      " \"i love you\" are love sentence\n",
      " \"i hate you\" are anger sentence\n",
      " \"i get good mark\" are joy sentence\n"
     ]
    }
   ],
   "source": [
    "corpus = ['Hello honey:)', \n",
    "          'Joker, are you mad?!', \n",
    "          'Happy birthday!', \n",
    "          'i miss my neighborhood',\n",
    "          'Dad, check for monsters under the bed',\n",
    "          'For the first time, this old fighter was surprised to feel tired',\n",
    "          'It was a surprise!',\n",
    "          'i love you',\n",
    "          'i hate you',\n",
    "          'i get good mark',]\n",
    "for doc in corpus:\n",
    "    print(f' \"{doc}\" are {idx2class[classify_text(doc)]} sentence')"
   ]
  },
  {
   "cell_type": "markdown",
   "id": "dd49c775-eded-4a49-b7f4-9903185a7b9d",
   "metadata": {},
   "source": [
    "# Bonus"
   ]
  },
  {
   "cell_type": "markdown",
   "id": "726c617b-7110-4761-9806-975d5f84bf41",
   "metadata": {},
   "source": [
    "Write a function that computes word impact on text label. "
   ]
  },
  {
   "cell_type": "code",
   "execution_count": 953,
   "id": "01a46658-8770-4d53-94ec-b7651dbde221",
   "metadata": {},
   "outputs": [],
   "source": [
    "def get_words_impact(text: str) -> list[tuple[str, np.ndarray]]:\n",
    "    '''Determines word impact on text label.\n",
    "\n",
    "    Arguments:\n",
    "        text: Sample text to be used for computation.\n",
    "\n",
    "    Returns:\n",
    "        A list of pairs: the word and vector of probability changes for each class'''\n",
    "    model.eval()\n",
    "    words = text.split()\n",
    "    \n",
    "    res = []\n",
    "    for word in words:\n",
    "        text_without_word  = text.split().copy()\n",
    "        text_without_word.remove(word)\n",
    "        text_without_word = ''.join(text_without_word)\n",
    "        text_without_word = tokenizer(text_without_word, return_tensors='pt')['input_ids'].to(device)\n",
    "        probs = model(None, text_without_word)\n",
    "        res.append((word, torch.nn.functional.softmax(probs).tolist()[0]))\n",
    "    return res"
   ]
  },
  {
   "cell_type": "code",
   "execution_count": 954,
   "id": "6aab0bc0-a5bb-48b5-ae76-d83f3ef810ec",
   "metadata": {},
   "outputs": [
    {
     "name": "stderr",
     "output_type": "stream",
     "text": [
      "/tmp/ipykernel_1898/985719021.py:19: UserWarning: Implicit dimension choice for softmax has been deprecated. Change the call to include dim=X as an argument.\n",
      "  res.append((word, torch.nn.functional.softmax(probs).tolist()[0]))\n"
     ]
    },
    {
     "data": {
      "text/plain": [
       "[('Hello',\n",
       "  [0.0005980867426842451,\n",
       "   0.17324812710285187,\n",
       "   0.8249717950820923,\n",
       "   0.00027835441869683564,\n",
       "   0.0008578005363233387,\n",
       "   4.581554821925238e-05]),\n",
       " ('honey:)',\n",
       "  [0.0040198396891355515,\n",
       "   0.829535722732544,\n",
       "   0.13423535227775574,\n",
       "   0.006296113133430481,\n",
       "   0.02516663633286953,\n",
       "   0.0007463052170351148])]"
      ]
     },
     "execution_count": 954,
     "metadata": {},
     "output_type": "execute_result"
    }
   ],
   "source": [
    "get_words_impact(corpus[0])"
   ]
  },
  {
   "cell_type": "markdown",
   "id": "1c6dbd69-ea3c-41df-943c-16a379384b16",
   "metadata": {},
   "source": [
    "Try to find out words that make text have a specific label."
   ]
  },
  {
   "cell_type": "code",
   "execution_count": 955,
   "id": "f5bbbaf8-68f6-4aa1-af37-f29b1edae464",
   "metadata": {},
   "outputs": [
    {
     "name": "stdout",
     "output_type": "stream",
     "text": [
      "Hello honey:)\n",
      "predicted label: love\n",
      "Hello 0.17502820491790771\n",
      "honey:) 0.8657646477222443\n",
      "========================================\n",
      "Joker, are you mad?!\n",
      "predicted label: anger\n",
      "Joker, 0.92279963940382\n",
      "are 0.8877983763813972\n",
      "you 0.8754256665706635\n",
      "mad?! 0.990043718367815\n",
      "========================================\n",
      "Happy birthday!\n",
      "predicted label: joy\n"
     ]
    },
    {
     "name": "stderr",
     "output_type": "stream",
     "text": [
      "/tmp/ipykernel_1898/985719021.py:19: UserWarning: Implicit dimension choice for softmax has been deprecated. Change the call to include dim=X as an argument.\n",
      "  res.append((word, torch.nn.functional.softmax(probs).tolist()[0]))\n"
     ]
    },
    {
     "name": "stdout",
     "output_type": "stream",
     "text": [
      "Happy 0.15059727430343628\n",
      "birthday! 7.474422454833984e-05\n",
      "========================================\n",
      "i miss my neighborhood\n",
      "predicted label: sadness\n",
      "i 0.6902925074100494\n",
      "miss 0.9072651565074921\n",
      "my 0.33851033449172974\n",
      "neighborhood 0.5583242774009705\n",
      "========================================\n",
      "Dad, check for monsters under the bed\n",
      "predicted label: fear\n",
      "Dad, 0.38105320930480957\n",
      "check 0.5370225310325623\n",
      "for 0.29024362564086914\n",
      "monsters 0.6542947292327881\n",
      "under 0.719698041677475\n",
      "the 0.46388953924179077\n",
      "bed 0.4133727550506592\n",
      "========================================\n",
      "For the first time, this old fighter was surprised to feel tired\n",
      "predicted label: sadness\n",
      "For 0.919306106865406\n",
      "the 0.9110179245471954\n",
      "first 0.9019946381449699\n",
      "time, 0.9144952818751335\n",
      "this 0.9198499843478203\n",
      "old 0.9359586387872696\n",
      "fighter 0.9101628810167313\n",
      "was 0.9146740585565567\n",
      "surprised 0.672441303730011\n",
      "to 0.24107283353805542\n",
      "feel 0.625064879655838\n",
      "tired 0.9408091865479946\n",
      "========================================\n",
      "It was a surprise!\n",
      "predicted label: surprise\n",
      "It 0.48600929975509644\n",
      "was 0.5220404267311096\n",
      "a 0.1933322548866272\n",
      "surprise! 0.9989030376309529\n",
      "========================================\n",
      "i love you\n",
      "predicted label: love\n",
      "i 0.07892382144927979\n",
      "love 0.9009955003857613\n",
      "you 0.5884970724582672\n",
      "========================================\n",
      "i hate you\n",
      "predicted label: anger\n",
      "i 0.22226792573928833\n",
      "hate 0.9185887724161148\n",
      "you 0.3890953063964844\n",
      "========================================\n",
      "i get good mark\n",
      "predicted label: joy\n",
      "i 0.26349228620529175\n",
      "get 0.5066566467285156\n",
      "good 0.857904389500618\n",
      "mark 0.060109853744506836\n",
      "========================================\n"
     ]
    }
   ],
   "source": [
    "for doc in corpus:\n",
    "    print(doc)\n",
    "    pred_label = classify_text(doc)\n",
    "    print(f'predicted label: {idx2class[pred_label]}')\n",
    "    for word, vec in get_words_impact(doc):\n",
    "        print(f'{word} {1 - vec[pred_label]}')\n",
    "    print('='*40)"
   ]
  }
 ],
 "metadata": {
  "kernelspec": {
   "display_name": "Python 3 (ipykernel)",
   "language": "python",
   "name": "python3"
  },
  "language_info": {
   "codemirror_mode": {
    "name": "ipython",
    "version": 3
   },
   "file_extension": ".py",
   "mimetype": "text/x-python",
   "name": "python",
   "nbconvert_exporter": "python",
   "pygments_lexer": "ipython3",
   "version": "3.12.7"
  }
 },
 "nbformat": 4,
 "nbformat_minor": 5
}

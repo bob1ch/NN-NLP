{
 "cells": [
  {
   "cell_type": "code",
   "execution_count": 9,
   "id": "5c0cc113-7b88-422a-9222-3f2153867cc3",
   "metadata": {},
   "outputs": [
    {
     "name": "stdin",
     "output_type": "stream",
     "text": [
      " 2\n",
      " 3\n",
      " 5\n",
      " 4\n"
     ]
    },
    {
     "name": "stdout",
     "output_type": "stream",
     "text": [
      "3 6\n"
     ]
    }
   ],
   "source": [
    "M_K = int(input())\n",
    "M_S = int(input())\n",
    "N_K = int(input())\n",
    "N_S = int(input())\n",
    "\n",
    "if min(M_K, M_S, N_K, N_S) == 0:\n",
    "    print(min(M_K, M_S) + 1, min(N_K, N_S) + 1)\n",
    "elif M_K == M_S == N_K == N_S:\n",
    "\tprint(M_K, N_K + 1)\n",
    "else:\n",
    "    if (M_K + N_K) > (M_S + N_S):\n",
    "        print(M_S+1, N_S+1)\n",
    "    else:\n",
    "        print(M_K+1, N_K+1)"
   ]
  },
  {
   "cell_type": "code",
   "execution_count": 12,
   "id": "0514d10a-7527-4675-839f-7e8ef6cd83c1",
   "metadata": {},
   "outputs": [
    {
     "name": "stdin",
     "output_type": "stream",
     "text": [
      " 8\n",
      " 9\n",
      " 5\n",
      " 9\n"
     ]
    },
    {
     "name": "stdout",
     "output_type": "stream",
     "text": [
      "9 6\n"
     ]
    }
   ],
   "source": [
    "M_K = int(input())\n",
    "M_S = int(input())\n",
    "N_K = int(input())\n",
    "N_S = int(input())\n",
    "\n",
    "if (M_K + N_K) > (M_S + N_S):\n",
    "    print(M_S+1, N_S+1)\n",
    "else:\n",
    "    print(M_K+1, N_K+1)"
   ]
  },
  {
   "cell_type": "code",
   "execution_count": null,
   "id": "c5acdb72-a60f-421b-bffc-a2e60de69cb3",
   "metadata": {},
   "outputs": [],
   "source": []
  }
 ],
 "metadata": {
  "kernelspec": {
   "display_name": "Python 3 (ipykernel)",
   "language": "python",
   "name": "python3"
  },
  "language_info": {
   "codemirror_mode": {
    "name": "ipython",
    "version": 3
   },
   "file_extension": ".py",
   "mimetype": "text/x-python",
   "name": "python",
   "nbconvert_exporter": "python",
   "pygments_lexer": "ipython3",
   "version": "3.12.7"
  }
 },
 "nbformat": 4,
 "nbformat_minor": 5
}

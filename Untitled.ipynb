{
 "cells": [
  {
   "cell_type": "code",
   "execution_count": 1,
   "id": "0761961d-658a-4b24-9bb5-1d190a885840",
   "metadata": {},
   "outputs": [],
   "source": [
    "import torch\n",
    "import tables\n",
    "import datasets\n",
    "import numpy as np\n",
    "import transformers\n",
    "import tqdm.notebook as tqdm\n",
    "import matplotlib.pyplot as plt\n",
    "\n",
    "import sklearn.model_selection"
   ]
  },
  {
   "cell_type": "code",
   "execution_count": 2,
   "id": "a83140da-08a9-481b-b782-0d158b99be9a",
   "metadata": {},
   "outputs": [],
   "source": [
    "dataset = datasets.load_dataset('code-search-net/code_search_net')"
   ]
  },
  {
   "cell_type": "code",
   "execution_count": 3,
   "id": "f11c25b0-fd73-46d2-b3ef-b95e82db8d6c",
   "metadata": {},
   "outputs": [],
   "source": [
    "model = transformers.AutoModel.from_pretrained('microsoft/codebert-base')"
   ]
  },
  {
   "cell_type": "code",
   "execution_count": 4,
   "id": "c7ec4e05-781e-41b8-a50d-adcb32a77904",
   "metadata": {},
   "outputs": [],
   "source": [
    "tokenizer = transformers.AutoTokenizer.from_pretrained('microsoft/codebert-base')"
   ]
  },
  {
   "cell_type": "code",
   "execution_count": 5,
   "id": "0a98e8b3-3231-4d30-aed2-9ef1fda9d440",
   "metadata": {},
   "outputs": [],
   "source": [
    "id_to_label = { i: str(j) for i, j in enumerate(np.unique(dataset['train']['language'])) }"
   ]
  },
  {
   "cell_type": "code",
   "execution_count": 6,
   "id": "0e6d7afb-42d3-4ebf-b619-7381556bd639",
   "metadata": {},
   "outputs": [],
   "source": [
    "label_to_id = { j: i for i, j in id_to_label.items() }"
   ]
  },
  {
   "cell_type": "code",
   "execution_count": 7,
   "id": "aba98057-9015-4e6a-90af-c45066caf470",
   "metadata": {},
   "outputs": [],
   "source": [
    "dataset = dataset.map(lambda x: { 'language': label_to_id[x] }, input_columns=['language'])"
   ]
  },
  {
   "cell_type": "code",
   "execution_count": 8,
   "id": "9cd60c79-c3d7-4b6a-8ef0-482a0f374242",
   "metadata": {},
   "outputs": [],
   "source": [
    "model = model.cuda()"
   ]
  },
  {
   "cell_type": "code",
   "execution_count": 9,
   "id": "89d50a87-df17-4da4-a27f-8b97f08dcd70",
   "metadata": {},
   "outputs": [],
   "source": [
    "def process_dataset(dataset: datasets.Dataset, tokenizer: transformers.PreTrainedTokenizer, model: torch.nn.Module, path: str, title: str | None = None, batch_size: int = 64, max_length: int = 512):\n",
    "    with tables.open_file(path, mode='w', title=title) as file, torch.no_grad():\n",
    "        filters = tables.Filters(complevel=9, complib='blosc:lz4hc')\n",
    "\n",
    "        data = target = index = None\n",
    "\n",
    "        for i in tqdm.trange(0, len(dataset), batch_size):\n",
    "            inputs = tokenizer(\n",
    "                dataset['whole_func_string'][i:i + batch_size], \n",
    "                padding='max_length', \n",
    "                max_length=max_length, \n",
    "                truncation=True, \n",
    "                return_tensors='pt',\n",
    "            ).to(model.device)\n",
    "            \n",
    "            outputs = model(**inputs).pooler_output.cpu().numpy()\n",
    "\n",
    "            if data is None:\n",
    "                data   = file.create_earray(file.root, 'input',  tables.Float32Atom(), (0, outputs.shape[-1]), 'Input',  filters=filters, expectedrows=len(dataset))\n",
    "                target = file.create_earray(file.root, 'target', tables.Int32Atom(),   (0, ),                  'Target', filters=filters, expectedrows=len(dataset))\n",
    "\n",
    "            data.append(outputs)\n",
    "            target.append(dataset['language'][i:i + batch_size])\n",
    "\n",
    "            del inputs"
   ]
  },
  {
   "cell_type": "code",
   "execution_count": 10,
   "id": "f4276657-0432-4784-a12b-d49289eb9517",
   "metadata": {},
   "outputs": [],
   "source": [
    "#process_dataset(dataset['train'], tokenizer, model, 'train_dataset.hdf5', 'Train', batch_size=512)\n",
    "#process_dataset(dataset['validation'], tokenizer, model, 'validation_dataset.hdf5', 'Validation', batch_size=512)\n",
    "#process_dataset(dataset['test'], tokenizer, model, 'test_dataset.hdf5', 'Test', batch_size=512)"
   ]
  },
  {
   "cell_type": "code",
   "execution_count": 11,
   "id": "ce2b5cbc-afcb-455d-8eec-80a8c4867ca5",
   "metadata": {},
   "outputs": [],
   "source": [
    "class CustomDataset(torch.utils.data.Dataset):\n",
    "    def __init__(self, path: str):\n",
    "        super().__init__()\n",
    "        self.path = path\n",
    "        self.dataset = tables.open_file(self.path, \"r\")\n",
    "\n",
    "    def __len__(self) -> int:\n",
    "        return self.dataset.root.input.shape[0]\n",
    "\n",
    "    def __getitem__(self, item: int) -> tuple[np.ndarray, np.ndarray]:\n",
    "        return self.dataset.root.input[item], self.dataset.root.target[item]"
   ]
  },
  {
   "cell_type": "code",
   "execution_count": 12,
   "id": "2f917aa8-ec66-42d0-b006-d176fa336305",
   "metadata": {},
   "outputs": [],
   "source": [
    "train_dataset      = CustomDataset(\"train_dataset.hdf5\")\n",
    "test_dataset       = CustomDataset(\"test_dataset.hdf5\")\n",
    "validation_dataset = CustomDataset(\"validation_dataset.hdf5\")"
   ]
  },
  {
   "cell_type": "code",
   "execution_count": 20,
   "id": "cb173741-b9aa-4a74-85bc-26c994c2f860",
   "metadata": {},
   "outputs": [],
   "source": [
    "batch_size = 512\n",
    "device = 'cuda'\n",
    "pin_memory = device == 'cuda'"
   ]
  },
  {
   "cell_type": "code",
   "execution_count": 21,
   "id": "b33535f1-648c-4d64-8d37-9053f9e637a1",
   "metadata": {
    "scrolled": true
   },
   "outputs": [],
   "source": [
    "train_dataloader      = torch.utils.data.DataLoader(train_dataset,      batch_size=batch_size, shuffle=True,  num_workers=8, pin_memory=pin_memory, pin_memory_device=pin_memory and device or '')\n",
    "test_dataloader       = torch.utils.data.DataLoader(test_dataset,       batch_size=batch_size, shuffle=False, num_workers=8, pin_memory=pin_memory, pin_memory_device=pin_memory and device or '')\n",
    "validation_dataloader = torch.utils.data.DataLoader(validation_dataset, batch_size=batch_size, shuffle=False, num_workers=8, pin_memory=pin_memory, pin_memory_device=pin_memory and device or '')"
   ]
  },
  {
   "cell_type": "code",
   "execution_count": 22,
   "id": "09bd5ab0-0bfd-4af5-a18a-61aec760f6f9",
   "metadata": {},
   "outputs": [],
   "source": [
    "class ModelTorch(torch.nn.Module):\n",
    "    def __init__(self, n_feature: int, num_class: int):\n",
    "        super().__init__()\n",
    "        self.linear = torch.nn.Linear(n_feature, num_class)\n",
    "\n",
    "    def forward(self, x: torch.Tensor) -> torch.Tensor:\n",
    "        return self.linear(x)"
   ]
  },
  {
   "cell_type": "code",
   "execution_count": 27,
   "id": "adcdb69c-1b24-48a8-b0b0-edcde0a3c118",
   "metadata": {},
   "outputs": [],
   "source": [
    "model = ModelTorch(768, 6).to(device)"
   ]
  },
  {
   "cell_type": "code",
   "execution_count": 28,
   "id": "979ed3b1-26eb-437c-908b-131139bee5b9",
   "metadata": {},
   "outputs": [],
   "source": [
    "optimizer = torch.optim.Adam(model.parameters())"
   ]
  },
  {
   "cell_type": "code",
   "execution_count": 29,
   "id": "e5125956-302a-4712-9df9-a9a396542ada",
   "metadata": {},
   "outputs": [],
   "source": [
    "loss_func = torch.nn.CrossEntropyLoss()"
   ]
  },
  {
   "cell_type": "code",
   "execution_count": 30,
   "id": "04f679d9-f60d-4564-8fcd-3121d44b9538",
   "metadata": {},
   "outputs": [
    {
     "data": {
      "application/vnd.jupyter.widget-view+json": {
       "model_id": "c47f0d43ecf1438ea459d76e9edf4a41",
       "version_major": 2,
       "version_minor": 0
      },
      "text/plain": [
       "  0%|          | 0/1 [00:00<?, ?it/s]"
      ]
     },
     "metadata": {},
     "output_type": "display_data"
    },
    {
     "data": {
      "application/vnd.jupyter.widget-view+json": {
       "model_id": "4de77499ec134cb9b216b4df42d33cff",
       "version_major": 2,
       "version_minor": 0
      },
      "text/plain": [
       "  0%|          | 0/3674 [00:00<?, ?it/s]"
      ]
     },
     "metadata": {},
     "output_type": "display_data"
    },
    {
     "data": {
      "application/vnd.jupyter.widget-view+json": {
       "model_id": "114ed94da30c488480e7018778f1feb0",
       "version_major": 2,
       "version_minor": 0
      },
      "text/plain": [
       "  0%|          | 0/175 [00:00<?, ?it/s]"
      ]
     },
     "metadata": {},
     "output_type": "display_data"
    }
   ],
   "source": [
    "epochs = 1\n",
    "\n",
    "pbar = tqdm.trange(epochs)\n",
    "for i in pbar:\n",
    "    train_acc, train_loss = 0, 0\n",
    "    epbar = tqdm.tqdm(train_dataloader, leave=False)\n",
    "    for i, (X, y) in enumerate(epbar):\n",
    "        if device == 'cuda':\n",
    "            X = X.cuda(non_blocking=True)\n",
    "            y = y.cuda(non_blocking=True)\n",
    "        \n",
    "        optimizer.zero_grad()\n",
    "        logits = model(X)\n",
    "        loss = loss_func(logits, y.long())\n",
    "\n",
    "        loss.backward()\n",
    "\n",
    "        optimizer.step()\n",
    "\n",
    "        train_loss += loss.item()\n",
    "        train_acc += (logits.argmax(dim=-1) == y).float().mean().item()\n",
    "\n",
    "        epbar.set_description(f'loss: {train_loss / (i + 1):.3f}, acc: {train_acc / (i + 1):.3f}')\n",
    "\n",
    "    train_acc /= i + 1\n",
    "    train_loss /= i + 1\n",
    "\n",
    "    valid_acc, valid_loss = 0, 0\n",
    "    with torch.no_grad():\n",
    "        epbar = tqdm.tqdm(validation_dataloader, leave=False)\n",
    "        for i, (X, y) in enumerate(epbar):\n",
    "            if device == 'cuda':\n",
    "                X = X.cuda(non_blocking=True)\n",
    "                y = y.cuda(non_blocking=True)\n",
    "\n",
    "            logits = model(X)\n",
    "            loss = loss_func(logits, y.long())\n",
    "    \n",
    "            valid_loss += loss.item()\n",
    "            valid_acc += (logits.argmax(dim=-1) == y).float().mean().item()\n",
    "\n",
    "            epbar.set_description(f'loss: {valid_loss / (i + 1):.3f}, acc: {valid_acc / (i + 1):.3f}')\n",
    "    \n",
    "        valid_acc /= i + 1\n",
    "        valid_loss /= i + 1\n",
    "\n",
    "    pbar.set_description(f'loss: {train_loss:.3f}, acc: {train_acc:.3f}, val_loss: {valid_loss:.3f}, val_acc: {valid_acc:.3f}')"
   ]
  },
  {
   "cell_type": "code",
   "execution_count": null,
   "id": "1e60e07e-0dda-47db-aae3-0e4d82fb0273",
   "metadata": {},
   "outputs": [],
   "source": []
  },
  {
   "cell_type": "code",
   "execution_count": null,
   "id": "9f911e76-7dc9-489c-9520-7390e2618ef3",
   "metadata": {},
   "outputs": [],
   "source": []
  },
  {
   "cell_type": "code",
   "execution_count": null,
   "id": "604e73c0-4721-4b8a-a913-c0dcfec3763d",
   "metadata": {},
   "outputs": [],
   "source": []
  },
  {
   "cell_type": "code",
   "execution_count": null,
   "id": "405b7ef3-4d99-4389-9706-e19833a0b440",
   "metadata": {},
   "outputs": [],
   "source": []
  },
  {
   "cell_type": "code",
   "execution_count": null,
   "id": "5a41dfd8-faa1-49a8-baf1-2f0d5e12b649",
   "metadata": {},
   "outputs": [],
   "source": []
  },
  {
   "cell_type": "code",
   "execution_count": null,
   "id": "4309e79c-c69b-44c6-98aa-fd78659ddb13",
   "metadata": {},
   "outputs": [],
   "source": []
  },
  {
   "cell_type": "code",
   "execution_count": null,
   "id": "734016b7-f513-4c23-8cd6-212f1f0d258c",
   "metadata": {},
   "outputs": [],
   "source": []
  },
  {
   "cell_type": "code",
   "execution_count": null,
   "id": "84c5b1f7-68dd-4760-af7b-2cf4f0a217f2",
   "metadata": {},
   "outputs": [],
   "source": []
  }
 ],
 "metadata": {
  "kernelspec": {
   "display_name": "Python 3 (ipykernel)",
   "language": "python",
   "name": "python3"
  },
  "language_info": {
   "codemirror_mode": {
    "name": "ipython",
    "version": 3
   },
   "file_extension": ".py",
   "mimetype": "text/x-python",
   "name": "python",
   "nbconvert_exporter": "python",
   "pygments_lexer": "ipython3",
   "version": "3.12.7"
  }
 },
 "nbformat": 4,
 "nbformat_minor": 5
}
